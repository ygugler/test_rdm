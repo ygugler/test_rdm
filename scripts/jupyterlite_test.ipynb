{
  "metadata": {
    "kernelspec": {
      "name": "python",
      "display_name": "Python (Pyodide)",
      "language": "python"
    },
    "language_info": {
      "codemirror_mode": {
        "name": "python",
        "version": 3
      },
      "file_extension": ".py",
      "mimetype": "text/x-python",
      "name": "python",
      "nbconvert_exporter": "python",
      "pygments_lexer": "ipython3",
      "version": "3.8"
    }
  },
  "nbformat_minor": 4,
  "nbformat": 4,
  "cells": [
    {
      "cell_type": "markdown",
      "source": "# Contact information",
      "metadata": {}
    },
    {
      "cell_type": "markdown",
      "source": "Author: Yvan Gugler\n\nE-Mail: yvan.gugler@unibe.ch\n\n03.12.2024",
      "metadata": {}
    },
    {
      "cell_type": "markdown",
      "source": "# Analysis",
      "metadata": {}
    },
    {
      "cell_type": "markdown",
      "source": "## Compute variables",
      "metadata": {}
    },
    {
      "cell_type": "markdown",
      "source": "Here we compute variables:\n* Temperature",
      "metadata": {}
    },
    {
      "cell_type": "code",
      "source": "temperature = 324452324/234",
      "metadata": {
        "trusted": true
      },
      "outputs": [],
      "execution_count": 4
    },
    {
      "cell_type": "code",
      "source": "temperature",
      "metadata": {
        "trusted": true
      },
      "outputs": [
        {
          "execution_count": 5,
          "output_type": "execute_result",
          "data": {
            "text/plain": "1386548.3931623932"
          },
          "metadata": {}
        }
      ],
      "execution_count": 5
    }
  ]
}